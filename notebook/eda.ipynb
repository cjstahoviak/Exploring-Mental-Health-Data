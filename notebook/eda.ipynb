{
 "cells": [
  {
   "cell_type": "code",
   "execution_count": 74,
   "metadata": {},
   "outputs": [
    {
     "data": {
      "text/plain": [
       "{'Shape': (140700, 20),\n",
       " 'Missing Values': id                                            0\n",
       " Name                                          0\n",
       " Gender                                        0\n",
       " Age                                           0\n",
       " City                                          0\n",
       " Working Professional or Student               0\n",
       " Profession                                36630\n",
       " Academic Pressure                        112803\n",
       " Work Pressure                             27918\n",
       " CGPA                                     112802\n",
       " Study Satisfaction                       112803\n",
       " Job Satisfaction                          27910\n",
       " Sleep Duration                                0\n",
       " Dietary Habits                                4\n",
       " Degree                                        2\n",
       " Have you ever had suicidal thoughts ?         0\n",
       " Work/Study Hours                              0\n",
       " Financial Stress                              4\n",
       " Family History of Mental Illness              0\n",
       " Depression                                    0\n",
       " dtype: int64,\n",
       " 'Missing Percentage': id                                        0.000000\n",
       " Name                                      0.000000\n",
       " Gender                                    0.000000\n",
       " Age                                       0.000000\n",
       " City                                      0.000000\n",
       " Working Professional or Student           0.000000\n",
       " Profession                               26.034115\n",
       " Academic Pressure                        80.172708\n",
       " Work Pressure                            19.842217\n",
       " CGPA                                     80.171997\n",
       " Study Satisfaction                       80.172708\n",
       " Job Satisfaction                         19.836532\n",
       " Sleep Duration                            0.000000\n",
       " Dietary Habits                            0.002843\n",
       " Degree                                    0.001421\n",
       " Have you ever had suicidal thoughts ?     0.000000\n",
       " Work/Study Hours                          0.000000\n",
       " Financial Stress                          0.002843\n",
       " Family History of Mental Illness          0.000000\n",
       " Depression                                0.000000\n",
       " dtype: float64,\n",
       " 'Data Types': id                                         int64\n",
       " Name                                      object\n",
       " Gender                                    object\n",
       " Age                                      float64\n",
       " City                                      object\n",
       " Working Professional or Student           object\n",
       " Profession                                object\n",
       " Academic Pressure                        float64\n",
       " Work Pressure                            float64\n",
       " CGPA                                     float64\n",
       " Study Satisfaction                       float64\n",
       " Job Satisfaction                         float64\n",
       " Sleep Duration                            object\n",
       " Dietary Habits                            object\n",
       " Degree                                    object\n",
       " Have you ever had suicidal thoughts ?     object\n",
       " Work/Study Hours                         float64\n",
       " Financial Stress                         float64\n",
       " Family History of Mental Illness          object\n",
       " Depression                                 int64\n",
       " dtype: object}"
      ]
     },
     "execution_count": 74,
     "metadata": {},
     "output_type": "execute_result"
    }
   ],
   "source": [
    "import pandas as pd\n",
    "\n",
    "# Overview of the Dataset\n",
    "\n",
    "data = pd.read_csv('../data/raw/train.csv')\n",
    "\n",
    "# Shape of the dataset\n",
    "shape = data.shape\n",
    "\n",
    "# Checking missing values\n",
    "missing_values = data.isnull().sum()\n",
    "missing_percentage = (missing_values / len(data)) * 100\n",
    "\n",
    "# Data types\n",
    "data_types = data.dtypes\n",
    "\n",
    "# Display the results\n",
    "{\"Shape\": shape, \"Missing Values\": missing_values, \"Missing Percentage\": missing_percentage, \"Data Types\": data_types}\n"
   ]
  },
  {
   "cell_type": "markdown",
   "metadata": {},
   "source": [
    "Academic Pressure: 80.17%\n",
    "Study Satisfaction: 80.17%\n",
    "CGPA: 80.17%\n",
    "\n",
    "-> It would be better to drop those columns."
   ]
  },
  {
   "cell_type": "code",
   "execution_count": 75,
   "metadata": {},
   "outputs": [
    {
     "data": {
      "text/html": [
       "<div>\n",
       "<style scoped>\n",
       "    .dataframe tbody tr th:only-of-type {\n",
       "        vertical-align: middle;\n",
       "    }\n",
       "\n",
       "    .dataframe tbody tr th {\n",
       "        vertical-align: top;\n",
       "    }\n",
       "\n",
       "    .dataframe thead th {\n",
       "        text-align: right;\n",
       "    }\n",
       "</style>\n",
       "<table border=\"1\" class=\"dataframe\">\n",
       "  <thead>\n",
       "    <tr style=\"text-align: right;\">\n",
       "      <th></th>\n",
       "      <th>id</th>\n",
       "      <th>Gender</th>\n",
       "      <th>Age</th>\n",
       "      <th>City</th>\n",
       "      <th>Working Professional or Student</th>\n",
       "      <th>Profession</th>\n",
       "      <th>Work Pressure</th>\n",
       "      <th>Job Satisfaction</th>\n",
       "      <th>Sleep Duration</th>\n",
       "      <th>Dietary Habits</th>\n",
       "      <th>Degree</th>\n",
       "      <th>Have you ever had suicidal thoughts ?</th>\n",
       "      <th>Work/Study Hours</th>\n",
       "      <th>Financial Stress</th>\n",
       "      <th>Family History of Mental Illness</th>\n",
       "      <th>Depression</th>\n",
       "    </tr>\n",
       "  </thead>\n",
       "  <tbody>\n",
       "    <tr>\n",
       "      <th>0</th>\n",
       "      <td>0</td>\n",
       "      <td>Female</td>\n",
       "      <td>49.0</td>\n",
       "      <td>Ludhiana</td>\n",
       "      <td>Working Professional</td>\n",
       "      <td>Chef</td>\n",
       "      <td>5.0</td>\n",
       "      <td>2.0</td>\n",
       "      <td>More than 8 hours</td>\n",
       "      <td>Healthy</td>\n",
       "      <td>BHM</td>\n",
       "      <td>No</td>\n",
       "      <td>1.0</td>\n",
       "      <td>2.0</td>\n",
       "      <td>No</td>\n",
       "      <td>0</td>\n",
       "    </tr>\n",
       "    <tr>\n",
       "      <th>1</th>\n",
       "      <td>1</td>\n",
       "      <td>Male</td>\n",
       "      <td>26.0</td>\n",
       "      <td>Varanasi</td>\n",
       "      <td>Working Professional</td>\n",
       "      <td>Teacher</td>\n",
       "      <td>4.0</td>\n",
       "      <td>3.0</td>\n",
       "      <td>Less than 5 hours</td>\n",
       "      <td>Unhealthy</td>\n",
       "      <td>LLB</td>\n",
       "      <td>Yes</td>\n",
       "      <td>7.0</td>\n",
       "      <td>3.0</td>\n",
       "      <td>No</td>\n",
       "      <td>1</td>\n",
       "    </tr>\n",
       "    <tr>\n",
       "      <th>2</th>\n",
       "      <td>2</td>\n",
       "      <td>Male</td>\n",
       "      <td>33.0</td>\n",
       "      <td>Visakhapatnam</td>\n",
       "      <td>Student</td>\n",
       "      <td>NaN</td>\n",
       "      <td>NaN</td>\n",
       "      <td>NaN</td>\n",
       "      <td>5-6 hours</td>\n",
       "      <td>Healthy</td>\n",
       "      <td>B.Pharm</td>\n",
       "      <td>Yes</td>\n",
       "      <td>3.0</td>\n",
       "      <td>1.0</td>\n",
       "      <td>No</td>\n",
       "      <td>1</td>\n",
       "    </tr>\n",
       "    <tr>\n",
       "      <th>3</th>\n",
       "      <td>3</td>\n",
       "      <td>Male</td>\n",
       "      <td>22.0</td>\n",
       "      <td>Mumbai</td>\n",
       "      <td>Working Professional</td>\n",
       "      <td>Teacher</td>\n",
       "      <td>5.0</td>\n",
       "      <td>1.0</td>\n",
       "      <td>Less than 5 hours</td>\n",
       "      <td>Moderate</td>\n",
       "      <td>BBA</td>\n",
       "      <td>Yes</td>\n",
       "      <td>10.0</td>\n",
       "      <td>1.0</td>\n",
       "      <td>Yes</td>\n",
       "      <td>1</td>\n",
       "    </tr>\n",
       "    <tr>\n",
       "      <th>4</th>\n",
       "      <td>4</td>\n",
       "      <td>Female</td>\n",
       "      <td>30.0</td>\n",
       "      <td>Kanpur</td>\n",
       "      <td>Working Professional</td>\n",
       "      <td>Business Analyst</td>\n",
       "      <td>1.0</td>\n",
       "      <td>1.0</td>\n",
       "      <td>5-6 hours</td>\n",
       "      <td>Unhealthy</td>\n",
       "      <td>BBA</td>\n",
       "      <td>Yes</td>\n",
       "      <td>9.0</td>\n",
       "      <td>4.0</td>\n",
       "      <td>Yes</td>\n",
       "      <td>0</td>\n",
       "    </tr>\n",
       "    <tr>\n",
       "      <th>...</th>\n",
       "      <td>...</td>\n",
       "      <td>...</td>\n",
       "      <td>...</td>\n",
       "      <td>...</td>\n",
       "      <td>...</td>\n",
       "      <td>...</td>\n",
       "      <td>...</td>\n",
       "      <td>...</td>\n",
       "      <td>...</td>\n",
       "      <td>...</td>\n",
       "      <td>...</td>\n",
       "      <td>...</td>\n",
       "      <td>...</td>\n",
       "      <td>...</td>\n",
       "      <td>...</td>\n",
       "      <td>...</td>\n",
       "    </tr>\n",
       "    <tr>\n",
       "      <th>140695</th>\n",
       "      <td>140695</td>\n",
       "      <td>Female</td>\n",
       "      <td>18.0</td>\n",
       "      <td>Ahmedabad</td>\n",
       "      <td>Working Professional</td>\n",
       "      <td>NaN</td>\n",
       "      <td>5.0</td>\n",
       "      <td>4.0</td>\n",
       "      <td>5-6 hours</td>\n",
       "      <td>Unhealthy</td>\n",
       "      <td>Class 12</td>\n",
       "      <td>No</td>\n",
       "      <td>2.0</td>\n",
       "      <td>4.0</td>\n",
       "      <td>Yes</td>\n",
       "      <td>1</td>\n",
       "    </tr>\n",
       "    <tr>\n",
       "      <th>140696</th>\n",
       "      <td>140696</td>\n",
       "      <td>Female</td>\n",
       "      <td>41.0</td>\n",
       "      <td>Hyderabad</td>\n",
       "      <td>Working Professional</td>\n",
       "      <td>Content Writer</td>\n",
       "      <td>5.0</td>\n",
       "      <td>4.0</td>\n",
       "      <td>7-8 hours</td>\n",
       "      <td>Moderate</td>\n",
       "      <td>B.Tech</td>\n",
       "      <td>Yes</td>\n",
       "      <td>6.0</td>\n",
       "      <td>5.0</td>\n",
       "      <td>Yes</td>\n",
       "      <td>0</td>\n",
       "    </tr>\n",
       "    <tr>\n",
       "      <th>140697</th>\n",
       "      <td>140697</td>\n",
       "      <td>Female</td>\n",
       "      <td>24.0</td>\n",
       "      <td>Kolkata</td>\n",
       "      <td>Working Professional</td>\n",
       "      <td>Marketing Manager</td>\n",
       "      <td>3.0</td>\n",
       "      <td>1.0</td>\n",
       "      <td>More than 8 hours</td>\n",
       "      <td>Moderate</td>\n",
       "      <td>B.Com</td>\n",
       "      <td>No</td>\n",
       "      <td>4.0</td>\n",
       "      <td>4.0</td>\n",
       "      <td>No</td>\n",
       "      <td>0</td>\n",
       "    </tr>\n",
       "    <tr>\n",
       "      <th>140698</th>\n",
       "      <td>140698</td>\n",
       "      <td>Female</td>\n",
       "      <td>49.0</td>\n",
       "      <td>Srinagar</td>\n",
       "      <td>Working Professional</td>\n",
       "      <td>Plumber</td>\n",
       "      <td>5.0</td>\n",
       "      <td>2.0</td>\n",
       "      <td>5-6 hours</td>\n",
       "      <td>Moderate</td>\n",
       "      <td>ME</td>\n",
       "      <td>Yes</td>\n",
       "      <td>10.0</td>\n",
       "      <td>1.0</td>\n",
       "      <td>No</td>\n",
       "      <td>0</td>\n",
       "    </tr>\n",
       "    <tr>\n",
       "      <th>140699</th>\n",
       "      <td>140699</td>\n",
       "      <td>Male</td>\n",
       "      <td>27.0</td>\n",
       "      <td>Patna</td>\n",
       "      <td>Student</td>\n",
       "      <td>NaN</td>\n",
       "      <td>NaN</td>\n",
       "      <td>NaN</td>\n",
       "      <td>Less than 5 hours</td>\n",
       "      <td>Healthy</td>\n",
       "      <td>BCA</td>\n",
       "      <td>Yes</td>\n",
       "      <td>2.0</td>\n",
       "      <td>3.0</td>\n",
       "      <td>Yes</td>\n",
       "      <td>1</td>\n",
       "    </tr>\n",
       "  </tbody>\n",
       "</table>\n",
       "<p>140700 rows × 16 columns</p>\n",
       "</div>"
      ],
      "text/plain": [
       "            id  Gender   Age           City Working Professional or Student  \\\n",
       "0            0  Female  49.0       Ludhiana            Working Professional   \n",
       "1            1    Male  26.0       Varanasi            Working Professional   \n",
       "2            2    Male  33.0  Visakhapatnam                         Student   \n",
       "3            3    Male  22.0         Mumbai            Working Professional   \n",
       "4            4  Female  30.0         Kanpur            Working Professional   \n",
       "...        ...     ...   ...            ...                             ...   \n",
       "140695  140695  Female  18.0      Ahmedabad            Working Professional   \n",
       "140696  140696  Female  41.0      Hyderabad            Working Professional   \n",
       "140697  140697  Female  24.0        Kolkata            Working Professional   \n",
       "140698  140698  Female  49.0       Srinagar            Working Professional   \n",
       "140699  140699    Male  27.0          Patna                         Student   \n",
       "\n",
       "               Profession  Work Pressure  Job Satisfaction     Sleep Duration  \\\n",
       "0                    Chef            5.0               2.0  More than 8 hours   \n",
       "1                 Teacher            4.0               3.0  Less than 5 hours   \n",
       "2                     NaN            NaN               NaN          5-6 hours   \n",
       "3                 Teacher            5.0               1.0  Less than 5 hours   \n",
       "4        Business Analyst            1.0               1.0          5-6 hours   \n",
       "...                   ...            ...               ...                ...   \n",
       "140695                NaN            5.0               4.0          5-6 hours   \n",
       "140696     Content Writer            5.0               4.0          7-8 hours   \n",
       "140697  Marketing Manager            3.0               1.0  More than 8 hours   \n",
       "140698            Plumber            5.0               2.0          5-6 hours   \n",
       "140699                NaN            NaN               NaN  Less than 5 hours   \n",
       "\n",
       "       Dietary Habits    Degree Have you ever had suicidal thoughts ?  \\\n",
       "0             Healthy       BHM                                    No   \n",
       "1           Unhealthy       LLB                                   Yes   \n",
       "2             Healthy   B.Pharm                                   Yes   \n",
       "3            Moderate       BBA                                   Yes   \n",
       "4           Unhealthy       BBA                                   Yes   \n",
       "...               ...       ...                                   ...   \n",
       "140695      Unhealthy  Class 12                                    No   \n",
       "140696       Moderate    B.Tech                                   Yes   \n",
       "140697       Moderate     B.Com                                    No   \n",
       "140698       Moderate        ME                                   Yes   \n",
       "140699        Healthy       BCA                                   Yes   \n",
       "\n",
       "        Work/Study Hours  Financial Stress Family History of Mental Illness  \\\n",
       "0                    1.0               2.0                               No   \n",
       "1                    7.0               3.0                               No   \n",
       "2                    3.0               1.0                               No   \n",
       "3                   10.0               1.0                              Yes   \n",
       "4                    9.0               4.0                              Yes   \n",
       "...                  ...               ...                              ...   \n",
       "140695               2.0               4.0                              Yes   \n",
       "140696               6.0               5.0                              Yes   \n",
       "140697               4.0               4.0                               No   \n",
       "140698              10.0               1.0                               No   \n",
       "140699               2.0               3.0                              Yes   \n",
       "\n",
       "        Depression  \n",
       "0                0  \n",
       "1                1  \n",
       "2                1  \n",
       "3                1  \n",
       "4                0  \n",
       "...            ...  \n",
       "140695           1  \n",
       "140696           0  \n",
       "140697           0  \n",
       "140698           0  \n",
       "140699           1  \n",
       "\n",
       "[140700 rows x 16 columns]"
      ]
     },
     "execution_count": 75,
     "metadata": {},
     "output_type": "execute_result"
    }
   ],
   "source": [
    "# Drop the Name column\n",
    "data.drop(columns=['Name'], inplace=True)\n",
    "\n",
    "# Drop the Academic Pressure, Study Satisfaction, CGPA columns because they have a lot of missing values\n",
    "data.drop(columns=['Academic Pressure', 'Study Satisfaction', 'CGPA'], inplace=True)\n",
    "data"
   ]
  },
  {
   "cell_type": "code",
   "execution_count": 76,
   "metadata": {},
   "outputs": [
    {
     "data": {
      "text/plain": [
       "(                  id            Age  Work Pressure  Job Satisfaction  \\\n",
       " count  140700.000000  140700.000000  112782.000000     112790.000000   \n",
       " mean    70349.500000      40.388621       2.998998          2.974404   \n",
       " std     40616.735775      12.384099       1.405771          1.416078   \n",
       " min         0.000000      18.000000       1.000000          1.000000   \n",
       " 25%     35174.750000      29.000000       2.000000          2.000000   \n",
       " 50%     70349.500000      42.000000       3.000000          3.000000   \n",
       " 75%    105524.250000      51.000000       4.000000          4.000000   \n",
       " max    140699.000000      60.000000       5.000000          5.000000   \n",
       " \n",
       "        Work/Study Hours  Financial Stress     Depression  \n",
       " count     140700.000000     140696.000000  140700.000000  \n",
       " mean           6.252679          2.988983       0.181713  \n",
       " std            3.853615          1.413633       0.385609  \n",
       " min            0.000000          1.000000       0.000000  \n",
       " 25%            3.000000          2.000000       0.000000  \n",
       " 50%            6.000000          3.000000       0.000000  \n",
       " 75%           10.000000          4.000000       0.000000  \n",
       " max           12.000000          5.000000       1.000000  ,\n",
       " Gender                                     2\n",
       " City                                      98\n",
       " Working Professional or Student            2\n",
       " Profession                                64\n",
       " Sleep Duration                            36\n",
       " Dietary Habits                            23\n",
       " Degree                                   115\n",
       " Have you ever had suicidal thoughts ?      2\n",
       " Family History of Mental Illness           2\n",
       " dtype: int64)"
      ]
     },
     "execution_count": 76,
     "metadata": {},
     "output_type": "execute_result"
    }
   ],
   "source": [
    "# Descriptive Statistics\n",
    "\n",
    "# Summary statistics for numerical columns\n",
    "numerical_stats = data.describe()\n",
    "\n",
    "# Unique value counts for categorical columns\n",
    "categorical_columns = data.select_dtypes(include=['object']).columns\n",
    "categorical_unique_counts = data[categorical_columns].nunique()\n",
    "\n",
    "# Display the results\n",
    "numerical_stats, categorical_unique_counts\n"
   ]
  },
  {
   "cell_type": "code",
   "execution_count": 77,
   "metadata": {},
   "outputs": [
    {
     "data": {
      "text/plain": [
       "Sleep Duration\n",
       "Less than 5 hours    38784\n",
       "7-8 hours            36969\n",
       "More than 8 hours    32726\n",
       "5-6 hours            32142\n",
       "3-4 hours               12\n",
       "6-7 hours                8\n",
       "4-5 hours                7\n",
       "2-3 hours                5\n",
       "4-6 hours                5\n",
       "6-8 hours                4\n",
       "1-6 hours                4\n",
       "No                       4\n",
       "9-11 hours               2\n",
       "10-11 hours              2\n",
       "Sleep_Duration           2\n",
       "Unhealthy                2\n",
       "45                       2\n",
       "8-9 hours                2\n",
       "10-6 hours               1\n",
       "9-5                      1\n",
       "45-48 hours              1\n",
       "3-6 hours                1\n",
       "Work_Study_Hours         1\n",
       "49 hours                 1\n",
       "than 5 hours             1\n",
       "Pune                     1\n",
       "9-6 hours                1\n",
       "8 hours                  1\n",
       "35-36 hours              1\n",
       "Indore                   1\n",
       "1-3 hours                1\n",
       "55-66 hours              1\n",
       "Moderate                 1\n",
       "40-45 hours              1\n",
       "1-2 hours                1\n",
       "9-5 hours                1\n",
       "Name: count, dtype: int64"
      ]
     },
     "execution_count": 77,
     "metadata": {},
     "output_type": "execute_result"
    }
   ],
   "source": [
    "# Sleep Duration Analysis\n",
    "data.groupby('Sleep Duration').size()\n",
    "data['Sleep Duration'].value_counts(normalize=False)"
   ]
  },
  {
   "cell_type": "markdown",
   "metadata": {},
   "source": [
    "Less than 5 hours    38784\n",
    "5-6 hours            32142\n",
    "6-7 hours                8\n",
    "7-8 hours            36969\n",
    "More than 8 hours    32726\n",
    "\n",
    "Others should be migrated on these categories."
   ]
  },
  {
   "cell_type": "code",
   "execution_count": 78,
   "metadata": {},
   "outputs": [
    {
     "data": {
      "text/plain": [
       "Sleep Duration\n",
       "Less than 5 hours    38812\n",
       "7-8 hours            36992\n",
       "More than 8 hours    32737\n",
       "5-6 hours            32151\n",
       "6-7 hours                8\n",
       "Name: count, dtype: int64"
      ]
     },
     "execution_count": 78,
     "metadata": {},
     "output_type": "execute_result"
    }
   ],
   "source": [
    "import numpy as np\n",
    "\n",
    "# Step 1: Define a mapping dictionary for specific cases\n",
    "mapping = {\n",
    "    'Less than 5 hours': 'Less than 5 hours',\n",
    "    '5-6 hours': '5-6 hours',\n",
    "    '6-7 hours': '6-7 hours',\n",
    "    '7-8 hours': '7-8 hours',\n",
    "    'More than 8 hours': 'More than 8 hours',\n",
    "    '1-2 hours': 'Less than 5 hours',\n",
    "    '1-3 hours': 'Less than 5 hours',\n",
    "    '3-4 hours': 'Less than 5 hours',\n",
    "    '2-3 hours': 'Less than 5 hours',\n",
    "    '4-5 hours': 'Less than 5 hours',\n",
    "    '6-8 hours': '7-8 hours',\n",
    "    '8-9 hours': 'More than 8 hours',\n",
    "    '9-11 hours': 'More than 8 hours',\n",
    "    '10-11 hours': 'More than 8 hours',\n",
    "    '9-6 hours': '7-8 hours',\n",
    "    '10-6 hours': '7-8 hours',\n",
    "    '9-5 hours': '7-8 hours',\n",
    "    '3-6 hours': 'Less than 5 hours',\n",
    "    '4-6 hours': '5-6 hours',\n",
    "    '1-6 hours': '5-6 hours',\n",
    "    '8 hours': '7-8 hours',\n",
    "    '35-36 hours': 'More than 8 hours',\n",
    "    '40-45 hours': 'More than 8 hours',\n",
    "    '45-48 hours': 'More than 8 hours',\n",
    "    '49 hours': 'More than 8 hours',\n",
    "    '55-66 hours': 'More than 8 hours',\n",
    "    'than 5 hours': 'Less than 5 hours',\n",
    "    'No': np.nan,\n",
    "    'Unhealthy': np.nan,\n",
    "    'Moderate': np.nan,\n",
    "    'Pune': np.nan,\n",
    "    'Indore': np.nan,\n",
    "    'Work_Study_Hours': np.nan,\n",
    "    'Sleep_Duration': np.nan\n",
    "}\n",
    "\n",
    "# Apply the mapping\n",
    "data['Sleep Duration'] = data['Sleep Duration'].replace(mapping)\n",
    "\n",
    "# Handle outliers with conditional logic\n",
    "data['Sleep Duration'] = np.where(\n",
    "    data['Sleep Duration'].str.contains('hours', na=False),\n",
    "    data['Sleep Duration'],\n",
    "    np.nan\n",
    ")\n",
    "\n",
    "# Count missing values\n",
    "missing_values = data['Sleep Duration'].isnull().sum()\n",
    "\n",
    "# replace missing values with '7-8 hours'\n",
    "data['Sleep Duration'] = data['Sleep Duration'].fillna('7-8 hours')\n",
    "\n",
    "# Verify the results\n",
    "data['Sleep Duration'].value_counts()"
   ]
  },
  {
   "cell_type": "code",
   "execution_count": 79,
   "metadata": {},
   "outputs": [
    {
     "data": {
      "text/plain": [
       "Dietary Habits\n",
       "Moderate             49705\n",
       "Unhealthy            46227\n",
       "Healthy              44741\n",
       "Yes                      2\n",
       "No                       2\n",
       "More Healthy             2\n",
       "No Healthy               1\n",
       "Class 12                 1\n",
       "Indoor                   1\n",
       "Male                     1\n",
       "Vegas                    1\n",
       "M.Tech                   1\n",
       "Less Healthy             1\n",
       "1.0                      1\n",
       "Electrician              1\n",
       "Hormonal                 1\n",
       "Mihir                    1\n",
       "Less than Healthy        1\n",
       "3                        1\n",
       "Gender                   1\n",
       "BSc                      1\n",
       "Pratham                  1\n",
       "2                        1\n",
       "Name: count, dtype: int64"
      ]
     },
     "execution_count": 79,
     "metadata": {},
     "output_type": "execute_result"
    }
   ],
   "source": [
    "# Dietary Habits Analysis\n",
    "data['Dietary Habits'].value_counts()"
   ]
  },
  {
   "cell_type": "code",
   "execution_count": 80,
   "metadata": {},
   "outputs": [
    {
     "data": {
      "text/plain": [
       "Dietary Habits\n",
       "Moderate     49732\n",
       "Unhealthy    46227\n",
       "Healthy      44741\n",
       "Name: count, dtype: int64"
      ]
     },
     "execution_count": 80,
     "metadata": {},
     "output_type": "execute_result"
    }
   ],
   "source": [
    "# Set values to Moderate except for 'Healthy' and 'Unhealthy'\n",
    "data['Dietary Habits'] = np.where(\n",
    "    data['Dietary Habits'].isin(['Healthy', 'Unhealthy']),\n",
    "    data['Dietary Habits'],\n",
    "    'Moderate'\n",
    ")\n",
    "\n",
    "# Verify the results\n",
    "data['Dietary Habits'].value_counts()"
   ]
  },
  {
   "cell_type": "code",
   "execution_count": 81,
   "metadata": {},
   "outputs": [
    {
     "data": {
      "text/plain": [
       "Degree\n",
       "Class 12    14729\n",
       "B.Ed        11691\n",
       "B.Arch       8742\n",
       "B.Com        8113\n",
       "B.Pharm      5856\n",
       "            ...  \n",
       "Vivaan          1\n",
       "MTech           1\n",
       "29              1\n",
       "LLCom           1\n",
       "Advait          1\n",
       "Name: count, Length: 115, dtype: int64"
      ]
     },
     "execution_count": 81,
     "metadata": {},
     "output_type": "execute_result"
    }
   ],
   "source": [
    "# Degree Analysis\n",
    "data['Degree'].value_counts()"
   ]
  },
  {
   "cell_type": "code",
   "execution_count": 83,
   "metadata": {},
   "outputs": [
    {
     "data": {
      "text/plain": [
       "Degree\n",
       "Class 12    14729\n",
       "B.Ed        11691\n",
       "B.Arch       8742\n",
       "B.Com        8113\n",
       "B.Pharm      5856\n",
       "BCA          5739\n",
       "M.Ed         5668\n",
       "MCA          5234\n",
       "BBA          5030\n",
       "BSc          5027\n",
       "MSc          4879\n",
       "LLM          4647\n",
       "M.Pharm      4537\n",
       "M.Tech       4475\n",
       "B.Tech       4425\n",
       "LLB          4348\n",
       "BHM          4305\n",
       "MBA          3818\n",
       "BA           3750\n",
       "ME           3632\n",
       "MD           3383\n",
       "MHM          3286\n",
       "BE           3104\n",
       "PhD          3103\n",
       "M.Com        3094\n",
       "MBBS         3082\n",
       "MA           2887\n",
       "Other         116\n",
       "Name: count, dtype: int64"
      ]
     },
     "execution_count": 83,
     "metadata": {},
     "output_type": "execute_result"
    }
   ],
   "source": [
    "degree_counts = data['Degree'].value_counts()\n",
    "\n",
    "# missing values\n",
    "missing_values = data['Degree'].isnull().sum()\n",
    "\n",
    "# replace missing values with 'Other'\n",
    "data['Degree'] = data['Degree'].fillna('Other')\n",
    "\n",
    "# Set the threshold for grouping rare degrees (<1% of total rows)\n",
    "threshold = 0.01 * len(data)\n",
    "\n",
    "# Aggregate rare degrees into \"Other\"\n",
    "data['Degree'] = data['Degree'].apply(lambda x: x if degree_counts[x] >= threshold else 'Other')\n",
    "\n",
    "# Check the result of the aggregation\n",
    "data['Degree'].value_counts()"
   ]
  },
  {
   "cell_type": "code",
   "execution_count": 84,
   "metadata": {},
   "outputs": [
    {
     "data": {
      "text/plain": [
       "Degree\n",
       "Bachelor's        56176\n",
       "Master's          35842\n",
       "Pre-University    14729\n",
       "Doctorate          6486\n",
       "Medical            3082\n",
       "Other               116\n",
       "Name: count, dtype: int64"
      ]
     },
     "execution_count": 84,
     "metadata": {},
     "output_type": "execute_result"
    }
   ],
   "source": [
    "# Define a mapping for degree categories\n",
    "degree_mapping = {\n",
    "    'B.Com': \"Bachelor's\",\n",
    "    'BBA': \"Bachelor's\",\n",
    "    'B.Tech': \"Bachelor's\",\n",
    "    'BSc': \"Bachelor's\",\n",
    "    'BE': \"Bachelor's\",\n",
    "    'B.Arch': \"Bachelor's\",\n",
    "    'B.Ed': \"Bachelor's\",\n",
    "    'BHM': \"Bachelor's\",\n",
    "    'BCA': \"Bachelor's\",\n",
    "    'M.Com': \"Master's\",\n",
    "    'MBA': \"Master's\",\n",
    "    'M.Tech': \"Master's\",\n",
    "    'MSc': \"Master's\",\n",
    "    'MA': \"Master's\",\n",
    "    'ME': \"Master's\",\n",
    "    'M.Pharm': \"Master's\",\n",
    "    'MCA': \"Master's\",\n",
    "    'MHM': \"Master's\",\n",
    "    'PhD': \"Doctorate\",\n",
    "    'MD': \"Doctorate\",\n",
    "    'MBBS': \"Medical\",\n",
    "    'Class 12': \"Pre-University\",\n",
    "    'Other': \"Other\"\n",
    "}\n",
    "\n",
    "# Apply the mapping\n",
    "data['Degree'] = data['Degree'].map(degree_mapping)\n",
    "\n",
    "data['Degree'].value_counts()"
   ]
  },
  {
   "cell_type": "code",
   "execution_count": null,
   "metadata": {},
   "outputs": [],
   "source": [
    "# # One-hot encode the 'Degree Category' column\n",
    "# degree_one_hot = pd.get_dummies(data['Degree Category'], prefix='Degree')\n",
    "# data = pd.concat([data, degree_one_hot], axis=1)\n",
    "\n",
    "# degree_order = {\n",
    "#     'Pre-University': 0,\n",
    "#     \"Bachelor's\": 1,\n",
    "#     \"Master's\": 2,\n",
    "#     'Doctorate': 3,\n",
    "#     'Medical': 4,\n",
    "#     'Other': 5\n",
    "# }\n",
    "\n",
    "# data['Degree Encoded'] = data['Degree Category'].map(degree_order)"
   ]
  },
  {
   "cell_type": "code",
   "execution_count": 89,
   "metadata": {},
   "outputs": [
    {
     "data": {
      "text/plain": [
       "Degree\n",
       "Bachelor's        56176\n",
       "Master's          35842\n",
       "Other             24385\n",
       "Pre-University    14729\n",
       "Doctorate          6486\n",
       "Medical            3082\n",
       "Name: count, dtype: int64"
      ]
     },
     "execution_count": 89,
     "metadata": {},
     "output_type": "execute_result"
    }
   ],
   "source": [
    "# missing values\n",
    "missing_values = data['Degree'].isnull().sum()\n",
    "\n",
    "# replace missing values with 'Other'\n",
    "data['Degree'] = data['Degree'].fillna('Other')\n",
    "\n",
    "# Verify the results\n",
    "data['Degree'].value_counts()"
   ]
  },
  {
   "cell_type": "code",
   "execution_count": 91,
   "metadata": {},
   "outputs": [
    {
     "data": {
      "text/plain": [
       "City\n",
       "Kalyan         6591\n",
       "Patna          5924\n",
       "Vasai-Virar    5765\n",
       "Kolkata        5689\n",
       "Ahmedabad      5613\n",
       "               ... \n",
       "Shrey             1\n",
       "Ivaan             1\n",
       "Vaanya            1\n",
       "Gaurav            1\n",
       "Unirar            1\n",
       "Name: count, Length: 98, dtype: int64"
      ]
     },
     "execution_count": 91,
     "metadata": {},
     "output_type": "execute_result"
    }
   ],
   "source": [
    "# City Analysis\n",
    "data['City'].value_counts()\n"
   ]
  },
  {
   "cell_type": "code",
   "execution_count": 96,
   "metadata": {},
   "outputs": [
    {
     "data": {
      "text/plain": [
       "City\n",
       "Kalyan           6591\n",
       "Patna            5924\n",
       "Vasai-Virar      5765\n",
       "Kolkata          5689\n",
       "Ahmedabad        5613\n",
       "Meerut           5528\n",
       "Ludhiana         5226\n",
       "Pune             5210\n",
       "Rajkot           5207\n",
       "Visakhapatnam    5176\n",
       "Srinagar         5074\n",
       "Mumbai           4966\n",
       "Indore           4872\n",
       "Agra             4684\n",
       "Surat            4636\n",
       "Varanasi         4606\n",
       "Vadodara         4568\n",
       "Hyderabad        4496\n",
       "Kanpur           4398\n",
       "Jaipur           4328\n",
       "Thane            4289\n",
       "Lucknow          4280\n",
       "Nagpur           4209\n",
       "Bangalore        4123\n",
       "Chennai          4044\n",
       "Ghaziabad        3620\n",
       "Delhi            3593\n",
       "Bhopal           3475\n",
       "Faridabad        3268\n",
       "Nashik           3144\n",
       "Other              98\n",
       "Name: count, dtype: int64"
      ]
     },
     "execution_count": 96,
     "metadata": {},
     "output_type": "execute_result"
    }
   ],
   "source": [
    "# Set values to 'Other' for cities with less than 1% of total rows\n",
    "city_counts = data['City'].value_counts()\n",
    "threshold = 0.01 * len(data)\n",
    "data['City'] = data['City'].apply(lambda x: x if city_counts[x] >= threshold else 'Other')\n",
    "\n",
    "# Verify the results\n",
    "data['City'].value_counts()"
   ]
  },
  {
   "cell_type": "markdown",
   "metadata": {},
   "source": [
    "We can consider group cities by region."
   ]
  },
  {
   "cell_type": "code",
   "execution_count": null,
   "metadata": {},
   "outputs": [
    {
     "data": {
      "text/plain": [
       "Profession\n",
       "Teacher           24906\n",
       "Content Writer     7814\n",
       "Architect          4370\n",
       "Consultant         4229\n",
       "HR Manager         4022\n",
       "                  ...  \n",
       "BBA                   1\n",
       "City Manager          1\n",
       "FamilyVirar           1\n",
       "B.Com                 1\n",
       "Yuvraj                1\n",
       "Name: count, Length: 64, dtype: int64"
      ]
     },
     "execution_count": 97,
     "metadata": {},
     "output_type": "execute_result"
    }
   ],
   "source": [
    "# Profession Analysis\n",
    "data['Profession'].value_counts()"
   ]
  },
  {
   "cell_type": "code",
   "execution_count": 103,
   "metadata": {},
   "outputs": [
    {
     "data": {
      "text/plain": [
       "26.03411513859275"
      ]
     },
     "execution_count": 103,
     "metadata": {},
     "output_type": "execute_result"
    }
   ],
   "source": [
    "# missing values\n",
    "missing_values = data['Profession'].isnull().sum()\n",
    "\n",
    "missing_values_percentage = (missing_values / len(data)) * 100\n",
    "\n",
    "missing_values_percentage"
   ]
  },
  {
   "cell_type": "code",
   "execution_count": 104,
   "metadata": {},
   "outputs": [
    {
     "data": {
      "text/plain": [
       "Profession\n",
       "Other                     44143\n",
       "Teacher                   24906\n",
       "Content Writer             7814\n",
       "Architect                  4370\n",
       "Consultant                 4229\n",
       "HR Manager                 4022\n",
       "Pharmacist                 3893\n",
       "Doctor                     3255\n",
       "Business Analyst           3161\n",
       "Entrepreneur               2968\n",
       "Chemist                    2967\n",
       "Chef                       2862\n",
       "Educational Consultant     2852\n",
       "Data Scientist             2390\n",
       "Researcher                 2328\n",
       "Lawyer                     2212\n",
       "Customer Support           2055\n",
       "Marketing Manager          1976\n",
       "Pilot                      1913\n",
       "Travel Consultant          1860\n",
       "Plumber                    1748\n",
       "Sales Executive            1739\n",
       "Manager                    1737\n",
       "Judge                      1712\n",
       "Electrician                1582\n",
       "Financial Analyst          1574\n",
       "Software Engineer          1510\n",
       "Civil Engineer             1470\n",
       "UX/UI Designer             1452\n",
       "Name: count, dtype: int64"
      ]
     },
     "execution_count": 104,
     "metadata": {},
     "output_type": "execute_result"
    }
   ],
   "source": [
    "# replace missing values with 'Other'\n",
    "data['Profession'] = data['Profession'].fillna('Other')\n",
    "\n",
    "# Set values to 'Other' for professions with less than 1% of total rows\n",
    "profession_counts = data['Profession'].value_counts()\n",
    "threshold = 0.01 * len(data)\n",
    "data['Profession'] = data['Profession'].apply(lambda x: x if profession_counts[x] >= threshold else 'Other')\n",
    "data['Profession'].value_counts()"
   ]
  },
  {
   "cell_type": "code",
   "execution_count": 106,
   "metadata": {},
   "outputs": [
    {
     "data": {
      "text/plain": [
       "Gender                                    2\n",
       "City                                     31\n",
       "Working Professional or Student           2\n",
       "Profession                               29\n",
       "Sleep Duration                            5\n",
       "Dietary Habits                            3\n",
       "Degree                                    6\n",
       "Have you ever had suicidal thoughts ?     2\n",
       "Family History of Mental Illness          2\n",
       "dtype: int64"
      ]
     },
     "execution_count": 106,
     "metadata": {},
     "output_type": "execute_result"
    }
   ],
   "source": [
    "# Count number of unique values in each column\n",
    "categorical_columns = data.select_dtypes(include=['object']).columns\n",
    "categorical_unique_counts = data[categorical_columns].nunique()\n",
    "categorical_unique_counts"
   ]
  },
  {
   "cell_type": "code",
   "execution_count": 108,
   "metadata": {},
   "outputs": [
    {
     "data": {
      "text/plain": [
       "Index(['id', 'Age', 'Work Pressure', 'Job Satisfaction', 'Work/Study Hours',\n",
       "       'Financial Stress', 'Depression'],\n",
       "      dtype='object')"
      ]
     },
     "execution_count": 108,
     "metadata": {},
     "output_type": "execute_result"
    }
   ],
   "source": [
    "# numerical columns\n",
    "numerical_columns = data.select_dtypes(include=['int64', 'float64']).columns\n",
    "numerical_columns"
   ]
  },
  {
   "cell_type": "code",
   "execution_count": 110,
   "metadata": {},
   "outputs": [
    {
     "data": {
      "image/png": "[encoded data removed]",
      "text/plain": [
       "<Figure size 640x480 with 1 Axes>"
      ]
     },
     "metadata": {},
     "output_type": "display_data"
    }
   ],
   "source": [
    "# Age Analysis\n",
    "data['Age'].describe()\n",
    "\n",
    "# Age Distribution\n",
    "import matplotlib.pyplot as plt\n",
    "plt.hist(data['Age'], bins=20, color='skyblue', edgecolor='black')\n",
    "plt.xlabel('Age')\n",
    "plt.ylabel('Frequency')\n",
    "plt.title('Age Distribution')\n",
    "plt.show()"
   ]
  },
  {
   "cell_type": "code",
   "execution_count": 111,
   "metadata": {},
   "outputs": [
    {
     "data": {
      "text/plain": [
       "0"
      ]
     },
     "execution_count": 111,
     "metadata": {},
     "output_type": "execute_result"
    }
   ],
   "source": [
    "# missing values\n",
    "missing_values = data['Age'].isnull().sum()\n",
    "missing_values"
   ]
  },
  {
   "cell_type": "code",
   "execution_count": null,
   "metadata": {},
   "outputs": [
    {
     "data": {
      "text/plain": [
       "Work Pressure\n",
       "2.0    24373\n",
       "4.0    22512\n",
       "5.0    22436\n",
       "3.0    21899\n",
       "1.0    21562\n",
       "Name: count, dtype: int64"
      ]
     },
     "execution_count": 112,
     "metadata": {},
     "output_type": "execute_result"
    }
   ],
   "source": [
    "# Work Pressure Analysis\n",
    "data['Work Pressure'].value_counts()"
   ]
  },
  {
   "cell_type": "code",
   "execution_count": 113,
   "metadata": {},
   "outputs": [
    {
     "data": {
      "text/plain": [
       "27918"
      ]
     },
     "execution_count": 113,
     "metadata": {},
     "output_type": "execute_result"
    }
   ],
   "source": [
    "# missing values\n",
    "missing_values = data['Work Pressure'].isnull().sum()\n",
    "missing_values"
   ]
  },
  {
   "cell_type": "code",
   "execution_count": 117,
   "metadata": {},
   "outputs": [
    {
     "data": {
      "text/plain": [
       "Work Pressure\n",
       "3.0    49817\n",
       "2.0    24373\n",
       "4.0    22512\n",
       "5.0    22436\n",
       "1.0    21562\n",
       "Name: count, dtype: int64"
      ]
     },
     "execution_count": 117,
     "metadata": {},
     "output_type": "execute_result"
    }
   ],
   "source": [
    "median_value = data['Work Pressure'].median()\n",
    "data['Work Pressure'] = data['Work Pressure'].fillna(median_value)\n",
    "data['Work Pressure'].value_counts()\n"
   ]
  },
  {
   "cell_type": "code",
   "execution_count": 118,
   "metadata": {},
   "outputs": [
    {
     "data": {
      "text/plain": [
       "Job Satisfaction\n",
       "2.0    24783\n",
       "5.0    22812\n",
       "1.0    22324\n",
       "3.0    21951\n",
       "4.0    20920\n",
       "Name: count, dtype: int64"
      ]
     },
     "execution_count": 118,
     "metadata": {},
     "output_type": "execute_result"
    }
   ],
   "source": [
    "# Job Satisfaction Analysis\n",
    "data['Job Satisfaction'].value_counts()"
   ]
  },
  {
   "cell_type": "code",
   "execution_count": 119,
   "metadata": {},
   "outputs": [
    {
     "data": {
      "text/plain": [
       "27910"
      ]
     },
     "execution_count": 119,
     "metadata": {},
     "output_type": "execute_result"
    }
   ],
   "source": [
    "# missing values\n",
    "missing_values = data['Job Satisfaction'].isnull().sum()\n",
    "missing_values"
   ]
  },
  {
   "cell_type": "code",
   "execution_count": 120,
   "metadata": {},
   "outputs": [
    {
     "data": {
      "text/plain": [
       "Job Satisfaction\n",
       "3.0    49861\n",
       "2.0    24783\n",
       "5.0    22812\n",
       "1.0    22324\n",
       "4.0    20920\n",
       "Name: count, dtype: int64"
      ]
     },
     "execution_count": 120,
     "metadata": {},
     "output_type": "execute_result"
    }
   ],
   "source": [
    "# replace missing values with Median\n",
    "median_value = data['Job Satisfaction'].median()\n",
    "data['Job Satisfaction'] = data['Job Satisfaction'].fillna(median_value)\n",
    "data['Job Satisfaction'].value_counts()"
   ]
  },
  {
   "cell_type": "code",
   "execution_count": 122,
   "metadata": {},
   "outputs": [
    {
     "data": {
      "text/plain": [
       "Work/Study Hours\n",
       "10.0    14199\n",
       "11.0    12832\n",
       "9.0     12711\n",
       "0.0     12066\n",
       "12.0    11409\n",
       "2.0     10595\n",
       "6.0     10432\n",
       "7.0      9872\n",
       "1.0      9802\n",
       "3.0      9474\n",
       "5.0      9337\n",
       "4.0      9065\n",
       "8.0      8906\n",
       "Name: count, dtype: int64"
      ]
     },
     "execution_count": 122,
     "metadata": {},
     "output_type": "execute_result"
    }
   ],
   "source": [
    "# Work/Study Hours Analysis\n",
    "data['Work/Study Hours'].value_counts()"
   ]
  },
  {
   "cell_type": "code",
   "execution_count": 123,
   "metadata": {},
   "outputs": [
    {
     "data": {
      "text/plain": [
       "0"
      ]
     },
     "execution_count": 123,
     "metadata": {},
     "output_type": "execute_result"
    }
   ],
   "source": [
    "# missing values\n",
    "missing_values = data['Work/Study Hours'].isnull().sum()\n",
    "missing_values"
   ]
  },
  {
   "cell_type": "code",
   "execution_count": 124,
   "metadata": {},
   "outputs": [
    {
     "data": {
      "text/plain": [
       "Financial Stress\n",
       "2.0    31451\n",
       "5.0    28279\n",
       "4.0    27765\n",
       "1.0    27211\n",
       "3.0    25990\n",
       "Name: count, dtype: int64"
      ]
     },
     "execution_count": 124,
     "metadata": {},
     "output_type": "execute_result"
    }
   ],
   "source": [
    "# Financial Stress Analysis\n",
    "data['Financial Stress'].value_counts()"
   ]
  },
  {
   "cell_type": "code",
   "execution_count": 125,
   "metadata": {},
   "outputs": [
    {
     "data": {
      "text/plain": [
       "4"
      ]
     },
     "execution_count": 125,
     "metadata": {},
     "output_type": "execute_result"
    }
   ],
   "source": [
    "# missing values\n",
    "missing_values = data['Financial Stress'].isnull().sum()\n",
    "missing_values"
   ]
  },
  {
   "cell_type": "code",
   "execution_count": 126,
   "metadata": {},
   "outputs": [
    {
     "data": {
      "text/plain": [
       "Financial Stress\n",
       "2.0    31451\n",
       "5.0    28279\n",
       "4.0    27765\n",
       "1.0    27211\n",
       "3.0    25994\n",
       "Name: count, dtype: int64"
      ]
     },
     "execution_count": 126,
     "metadata": {},
     "output_type": "execute_result"
    }
   ],
   "source": [
    "# replace missing values with Median\n",
    "median_value = data['Financial Stress'].median()\n",
    "data['Financial Stress'] = data['Financial Stress'].fillna(median_value)\n",
    "data['Financial Stress'].value_counts()"
   ]
  },
  {
   "cell_type": "code",
   "execution_count": null,
   "metadata": {},
   "outputs": [],
   "source": [
    "# Encode binary categorical columns (e.g., 'Yes'/'No') to integers or strings if needed\n",
    "data['Have you ever had suicidal thoughts ?'] = data['Have you ever had suicidal thoughts ?'].map({'Yes': 1, 'No': 0, 'Unknown': -1}).astype(float)\n",
    "data['Family History of Mental Illness'] = data['Family History of Mental Illness'].map({'Yes': 1, 'No': 0, 'Unknown': -1}).astype(float)"
   ]
  },
  {
   "cell_type": "code",
   "execution_count": 129,
   "metadata": {},
   "outputs": [
    {
     "data": {
      "text/plain": [
       "Have you ever had suicidal thoughts ?\n",
       "0.0    71138\n",
       "1.0    69562\n",
       "Name: count, dtype: int64"
      ]
     },
     "execution_count": 129,
     "metadata": {},
     "output_type": "execute_result"
    }
   ],
   "source": [
    "data['Have you ever had suicidal thoughts ?'].value_counts()"
   ]
  },
  {
   "cell_type": "code",
   "execution_count": 130,
   "metadata": {},
   "outputs": [
    {
     "data": {
      "text/plain": [
       "Family History of Mental Illness\n",
       "0.0    70758\n",
       "1.0    69942\n",
       "Name: count, dtype: int64"
      ]
     },
     "execution_count": 130,
     "metadata": {},
     "output_type": "execute_result"
    }
   ],
   "source": [
    "data['Family History of Mental Illness'].value_counts()"
   ]
  },
  {
   "cell_type": "code",
   "execution_count": 132,
   "metadata": {},
   "outputs": [
    {
     "data": {
      "text/plain": [
       "id                                       0\n",
       "Gender                                   0\n",
       "Age                                      0\n",
       "City                                     0\n",
       "Working Professional or Student          0\n",
       "Profession                               0\n",
       "Work Pressure                            0\n",
       "Job Satisfaction                         0\n",
       "Sleep Duration                           0\n",
       "Dietary Habits                           0\n",
       "Degree                                   0\n",
       "Have you ever had suicidal thoughts ?    0\n",
       "Work/Study Hours                         0\n",
       "Financial Stress                         0\n",
       "Family History of Mental Illness         0\n",
       "Depression                               0\n",
       "dtype: int64"
      ]
     },
     "execution_count": 132,
     "metadata": {},
     "output_type": "execute_result"
    }
   ],
   "source": [
    "# missing values\n",
    "missing_values = data.isnull().sum()\n",
    "missing_values"
   ]
  },
  {
   "cell_type": "code",
   "execution_count": 133,
   "metadata": {},
   "outputs": [],
   "source": [
    "# save the cleaned data\n",
    "data.to_csv('../data/processed/train_cleaned.csv', index=False)"
   ]
  }
 ],
 "metadata": {
  "kernelspec": {
   "display_name": "Exploring-Mental-Health-Data",
   "language": "python",
   "name": "python3"
  },
  "language_info": {
   "codemirror_mode": {
    "name": "ipython",
    "version": 3
   },
   "file_extension": ".py",
   "mimetype": "text/x-python",
   "name": "python",
   "nbconvert_exporter": "python",
   "pygments_lexer": "ipython3",
   "version": "3.12.3"
  }
 },
 "nbformat": 4,
 "nbformat_minor": 2
}
